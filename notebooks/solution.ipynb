{
 "cells": [
  {
   "cell_type": "markdown",
   "metadata": {},
   "source": [
    "# **Libs**"
   ]
  },
  {
   "metadata": {},
   "cell_type": "code",
   "source": [
    "# Torch\n",
    "from torch.utils.data import DataLoader\n",
    "from torchvision import transforms, models\n",
    "\n",
    "# Остальное\n",
    "from sklearn.model_selection import train_test_split\n",
    "\n",
    "# Utils\n",
    "from image_classification.model import *"
   ],
   "outputs": [],
   "execution_count": null
  },
  {
   "cell_type": "markdown",
   "metadata": {},
   "source": [
    "# **Code**"
   ]
  },
  {
   "cell_type": "markdown",
   "metadata": {},
   "source": [
    "## Зафиксируем seed"
   ]
  },
  {
   "cell_type": "code",
   "metadata": {},
   "source": [
    "set_all_seeds()"
   ],
   "outputs": [],
   "execution_count": null
  },
  {
   "cell_type": "markdown",
   "metadata": {},
   "source": [
    "## Data"
   ]
  },
  {
   "metadata": {},
   "cell_type": "markdown",
   "source": "### **Transformation** and **augmentation**"
  },
  {
   "metadata": {},
   "cell_type": "code",
   "source": [
    "# Определим базовые преобразования\n",
    "image_transform = transforms.Compose([\n",
    "    transforms.Resize(image_size),\n",
    "    transforms.ToTensor(),                      # Преобразовать в тензор\n",
    "    transforms.Normalize(mean=mean, std=std)    # Нормализовать данные\n",
    "])\n",
    "\n",
    "# Определим преобразования с аугментациями\n",
    "image_augmentation = transforms.Compose([\n",
    "    image_transform\n",
    "])"
   ],
   "outputs": [],
   "execution_count": null
  },
  {
   "cell_type": "markdown",
   "metadata": {},
   "source": "### Reading"
  },
  {
   "metadata": {},
   "cell_type": "code",
   "source": "classes = list()",
   "outputs": [],
   "execution_count": null
  },
  {
   "metadata": {},
   "cell_type": "code",
   "source": [
    "image_paths = list()\n",
    "labels = list()"
   ],
   "outputs": [],
   "execution_count": null
  },
  {
   "metadata": {},
   "cell_type": "markdown",
   "source": "### Split"
  },
  {
   "metadata": {},
   "cell_type": "code",
   "source": "train_image_paths, valid_image_paths, train_labels, valid_labels = train_test_split(image_paths, labels, test_size=0.2, random_state=42, stratify=labels)",
   "outputs": [],
   "execution_count": null
  },
  {
   "metadata": {},
   "cell_type": "markdown",
   "source": "### Create **Datasets**"
  },
  {
   "metadata": {},
   "cell_type": "code",
   "source": [
    "dataset = ImageClassificationDataset(image_paths, labels, transform=image_transform)\n",
    "\n",
    "train_set = ImageClassificationDataset(train_image_paths, train_labels, transform=image_augmentation)\n",
    "valid_set = ImageClassificationDataset(valid_image_paths, valid_labels, transform=image_transform)"
   ],
   "outputs": [],
   "execution_count": null
  },
  {
   "cell_type": "markdown",
   "metadata": {},
   "source": [
    "### Visualization"
   ]
  },
  {
   "cell_type": "code",
   "metadata": {},
   "source": "show_images(dataset, classes=classes)",
   "outputs": [],
   "execution_count": null
  },
  {
   "cell_type": "markdown",
   "metadata": {},
   "source": [
    "### Creating a DataLoader"
   ]
  },
  {
   "cell_type": "code",
   "metadata": {},
   "source": [
    "# Создание DataLoader для каждой выборки\n",
    "batch_size = 24\n",
    "\n",
    "train_loader = DataLoader(train_set, batch_size=batch_size, shuffle=True)\n",
    "valid_loader = DataLoader(valid_set, batch_size=batch_size, shuffle=True)"
   ],
   "outputs": [],
   "execution_count": null
  },
  {
   "cell_type": "markdown",
   "metadata": {},
   "source": [
    "## Models"
   ]
  },
  {
   "cell_type": "markdown",
   "metadata": {},
   "source": [
    "### Score"
   ]
  },
  {
   "cell_type": "code",
   "metadata": {},
   "source": [
    "scores = dict()"
   ],
   "outputs": [],
   "execution_count": null
  },
  {
   "cell_type": "markdown",
   "metadata": {},
   "source": "### EfficientNet"
  },
  {
   "cell_type": "code",
   "metadata": {},
   "source": [
    "efficientnet_raw = models.efficientnet_b0(weights=models.EfficientNet_B0_Weights.IMAGENET1K_V1)\n",
    "efficientnet_raw.classifier[-1] = nn.Linear(efficientnet_raw.classifier[-1].in_features, len(classes))"
   ],
   "outputs": [],
   "execution_count": null
  },
  {
   "metadata": {},
   "cell_type": "code",
   "source": "efficientnet = ImageClassifier(efficientnet_raw, \"EfficientNet\")",
   "outputs": [],
   "execution_count": null
  },
  {
   "cell_type": "code",
   "metadata": {},
   "source": [
    "efficientnet.fit(train_loader, valid_loader, 10)\n",
    "scores[efficientnet.best_score] = efficientnet"
   ],
   "outputs": [],
   "execution_count": null
  },
  {
   "cell_type": "markdown",
   "metadata": {},
   "source": [
    "## Result"
   ]
  },
  {
   "cell_type": "code",
   "metadata": {},
   "source": [
    "best_model = scores[max(scores)] # ? Выбрать модель\n",
    "best_model.name"
   ],
   "outputs": [],
   "execution_count": null
  },
  {
   "metadata": {},
   "cell_type": "code",
   "source": [
    "# Количество изображений для отображения\n",
    "n = 3\n",
    "\n",
    "# Создание фигуры для вывода нескольких изображений\n",
    "fig, axes = plt.subplots(n, 1, figsize=(5, 5 * n))\n",
    "fig.patch.set_alpha(0.0)  # Прозрачный фон\n",
    "\n",
    "for i, idx in enumerate(random.sample(range(len(valid_set)), n)):\n",
    "    # Извлечение данных и предсказания\n",
    "    image, label = valid_set[idx]  # Предполагается, что valid_set возвращает (изображение, метка)\n",
    "    prediction = best_model.predict(image)  # Предсказание для одного изображения\n",
    "\n",
    "    # Денормализация изображения и отображение\n",
    "    ax = axes[i]\n",
    "    ax.imshow(denormalize(image).cpu().numpy().transpose(1, 2, 0))\n",
    "    ax.axis('off')  # Отключаем оси\n",
    "    ax.set_title(f\"Class: {classes[label]}\\nPredict: {classes[prediction]}\", fontsize=10, color='white')\n",
    "\n",
    "# Общий показ фигуры\n",
    "plt.tight_layout()\n",
    "plt.show()"
   ],
   "outputs": [],
   "execution_count": null
  },
  {
   "cell_type": "markdown",
   "metadata": {},
   "source": [
    "## Submission"
   ]
  },
  {
   "cell_type": "code",
   "metadata": {},
   "source": [
    "test_image_names = list(map(lambda path: f\"../data/test_images/{path}\", os.listdir(\"../data/test_images\")))\n",
    "test_set = ImageDataset(test_image_names, transform=image_transform)"
   ],
   "outputs": [],
   "execution_count": null
  },
  {
   "cell_type": "code",
   "metadata": {},
   "source": [
    "predict_class_id = best_model.predict(test_set)\n",
    "predict_class_names = [classes[class_id] for class_id in predict_class_id]"
   ],
   "outputs": [],
   "execution_count": null
  }
 ],
 "metadata": {
  "kernelspec": {
   "display_name": "Python 3",
   "language": "python",
   "name": "python3"
  },
  "language_info": {
   "codemirror_mode": {
    "name": "ipython",
    "version": 3
   },
   "file_extension": ".py",
   "mimetype": "text/x-python",
   "name": "python",
   "nbconvert_exporter": "python",
   "pygments_lexer": "ipython3",
   "version": "3.11.8"
  }
 },
 "nbformat": 4,
 "nbformat_minor": 2
}
