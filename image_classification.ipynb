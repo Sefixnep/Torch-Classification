{
 "cells": [
  {
   "cell_type": "code",
   "execution_count": 1,
   "metadata": {
    "ExecuteTime": {
     "end_time": "2024-11-21T19:15:10.459513Z",
     "start_time": "2024-11-21T19:15:05.297753Z"
    }
   },
   "outputs": [],
   "source": [
    "# Utils\n",
    "from classification.model import *"
   ]
  },
  {
   "cell_type": "markdown",
   "metadata": {},
   "source": [
    "## Зафиксируем **seed**"
   ]
  },
  {
   "cell_type": "code",
   "execution_count": 2,
   "metadata": {},
   "outputs": [],
   "source": [
    "set_all_seeds()"
   ]
  },
  {
   "cell_type": "markdown",
   "metadata": {},
   "source": [
    "## Data"
   ]
  },
  {
   "cell_type": "markdown",
   "metadata": {},
   "source": [
    "### **Classification dataset**"
   ]
  },
  {
   "cell_type": "code",
   "execution_count": null,
   "metadata": {},
   "outputs": [],
   "source": [
    "from PIL import Image\n",
    "import torchvision.transforms as T\n",
    "\n",
    "class ImageClassificationDataset(torch.utils.data.Dataset):\n",
    "    transform = T.Compose([\n",
    "        T.Resize((224, 224)),\n",
    "        T.ToTensor(),\n",
    "        T.Normalize(mean=0.5, std=0.5),\n",
    "    ])\n",
    "\n",
    "    def __init__(self, image_paths, labels=None, augmentation=None):\n",
    "        self.image_paths = image_paths\n",
    "        self.labels = labels\n",
    "\n",
    "        self.augmentation = augmentation\n",
    "\n",
    "    def __len__(self):\n",
    "        return len(self.image_paths)\n",
    "\n",
    "    def __getitem__(self, idx):\n",
    "        # Считываем изображение\n",
    "        image_path = self.image_paths[idx]\n",
    "        image_pil = Image.open(image_path).convert(\"RGB\")\n",
    "\n",
    "        # Приминяем аугментации, если есть\n",
    "        if self.augmentation is not None:\n",
    "            image_pil = self.augmentation(image_pil)\n",
    "\n",
    "        # Трансформируем изображение в tensor\n",
    "        image_tensor = self.transform(image_pil)\n",
    "        result = {'args': [image_tensor]}\n",
    "\n",
    "        # Добавляем label, если есть\n",
    "        if self.labels is not None:\n",
    "            label = self.labels[idx]\n",
    "            label_tensor = torch.tensor(label, dtype=torch.long)\n",
    "            result['labels'] = label_tensor\n",
    "\n",
    "        return result\n",
    "    \n",
    "    def get_item(self, idx):\n",
    "        image_path = self.image_paths[idx]\n",
    "        image_pil = Image.open(image_path)\n",
    "\n",
    "        result = {'image': image_pil}\n",
    "        if self.labels is not None:\n",
    "            result['label'] = self.labels[idx]\n",
    "\n",
    "        return result # image, (label)"
   ]
  },
  {
   "cell_type": "code",
   "execution_count": null,
   "metadata": {},
   "outputs": [],
   "source": [
    "augmentation = T.Compose([\n",
    "    # Добавьте своих аугментаций (по желанию)\n",
    "])"
   ]
  },
  {
   "cell_type": "markdown",
   "metadata": {},
   "source": [
    "### Preparation"
   ]
  },
  {
   "cell_type": "code",
   "execution_count": 4,
   "metadata": {},
   "outputs": [],
   "source": [
    "classes = list() # название классов"
   ]
  },
  {
   "cell_type": "code",
   "execution_count": null,
   "metadata": {},
   "outputs": [],
   "source": [
    "image_paths = list() # пути к изображениям\n",
    "labels = list() # метки, соответствующие изображениям"
   ]
  },
  {
   "cell_type": "markdown",
   "metadata": {},
   "source": [
    "### **Split**"
   ]
  },
  {
   "cell_type": "code",
   "execution_count": null,
   "metadata": {},
   "outputs": [],
   "source": [
    "from sklearn.model_selection import train_test_split\n",
    "\n",
    "train_image_paths, valid_image_paths, train_labels, valid_labels = train_test_split(image_paths, labels, test_size=0.2, random_state=42) # stratify=labels"
   ]
  },
  {
   "cell_type": "markdown",
   "metadata": {},
   "source": [
    "### Create **Datasets**"
   ]
  },
  {
   "cell_type": "code",
   "execution_count": null,
   "metadata": {},
   "outputs": [],
   "source": [
    "dataset = ImageClassificationDataset(image_paths, labels)\n",
    "\n",
    "train_set = ImageClassificationDataset(train_image_paths, train_labels, augmentation)\n",
    "valid_set = ImageClassificationDataset(valid_image_paths, valid_labels)"
   ]
  },
  {
   "cell_type": "markdown",
   "metadata": {},
   "source": [
    "### Create **DataLoader**"
   ]
  },
  {
   "cell_type": "code",
   "execution_count": null,
   "metadata": {},
   "outputs": [],
   "source": [
    "batch_size = 32\n",
    "num_workers = 4\n",
    "\n",
    "train_loader = DataLoader(train_set, batch_size=batch_size, num_workers=num_workers, shuffle=True)\n",
    "valid_loader = DataLoader(valid_set, batch_size=batch_size, num_workers=num_workers, shuffle=False)"
   ]
  },
  {
   "cell_type": "markdown",
   "metadata": {},
   "source": [
    "### ***Visualization***"
   ]
  },
  {
   "cell_type": "code",
   "execution_count": null,
   "metadata": {},
   "outputs": [],
   "source": [
    "show_classification(dataset, classes=classes)"
   ]
  },
  {
   "cell_type": "markdown",
   "metadata": {},
   "source": [
    "## **Models**"
   ]
  },
  {
   "cell_type": "code",
   "execution_count": 11,
   "metadata": {},
   "outputs": [],
   "source": [
    "from torchvision import models\n",
    "from transformers import AutoModelForImageClassification\n",
    "\n",
    "from torch_lr_finder import LRFinder"
   ]
  },
  {
   "cell_type": "code",
   "execution_count": null,
   "metadata": {},
   "outputs": [],
   "source": [
    "def find_lr(model_wrapped):\n",
    "    loss_fn = nn.CrossEntropyLoss()\n",
    "    optimizer = optim.Adam(model_wrapped.parameters(), lr=1e-7)\n",
    "\n",
    "    # Создаем адаптированный DataLoader\n",
    "    class AdaptedDataLoader(torch.utils.data.DataLoader):\n",
    "        def __init__(self, dataloader):\n",
    "            self.dataloader = dataloader\n",
    "            self.iterator = iter(dataloader)\n",
    "        \n",
    "        def __iter__(self):\n",
    "            self.iterator = iter(self.dataloader)\n",
    "            return self\n",
    "        \n",
    "        def __next__(self):\n",
    "            batch = next(self.iterator)\n",
    "            return batch['args'][0], batch['labels']\n",
    "\n",
    "    adapted_loader = AdaptedDataLoader(train_loader)\n",
    "    lr_finder = LRFinder(model_wrapped, optimizer, loss_fn, device=model_wrapped.device)\n",
    "    lr_finder.range_test(adapted_loader, end_lr=1, num_iter=100)\n",
    "    lr_finder.plot()\n",
    "    lr_finder.reset()"
   ]
  },
  {
   "cell_type": "code",
   "execution_count": null,
   "metadata": {},
   "outputs": [],
   "source": [
    "class CustomOutput(nn.Module):\n",
    "    def __init__(self, model, output_transform=lambda out: out.logits):\n",
    "        super().__init__()\n",
    "        self.model = model\n",
    "        self.output_transform = output_transform\n",
    "\n",
    "    def forward(self, *args, **kwargs):\n",
    "        return self.output_transform(self.model(*args, **kwargs))\n",
    "\n",
    "    def __getattr__(self, name):\n",
    "        if name in ('model', 'output_transform'):\n",
    "            return super().__getattr__(name)\n",
    "        return getattr(self.model, name)\n",
    "    \n",
    "    def __setattr__(self, name, value):\n",
    "        if name in ('model', 'output_transform'):\n",
    "            super().__setattr__(name, value)\n",
    "        else:\n",
    "            setattr(self.model, name, value)"
   ]
  },
  {
   "cell_type": "markdown",
   "metadata": {},
   "source": [
    "### *Score*"
   ]
  },
  {
   "cell_type": "code",
   "execution_count": null,
   "metadata": {},
   "outputs": [],
   "source": [
    "scores = dict()"
   ]
  },
  {
   "cell_type": "markdown",
   "metadata": {},
   "source": [
    "### **Model**: `google/vit-base-patch16-224`"
   ]
  },
  {
   "cell_type": "code",
   "execution_count": null,
   "metadata": {},
   "outputs": [],
   "source": [
    "model = CustomOutput(AutoModelForImageClassification.from_pretrained(\"google/vit-base-patch16-224\", num_labels=len(classes), ignore_mismatched_sizes=True))\n",
    "optimizer = optim.Adam(model.parameters(), lr=5e-5)\n",
    "\n",
    "model_wrapped = Classifier(model, \"Google-VitBase\", optimizer)"
   ]
  },
  {
   "cell_type": "code",
   "execution_count": null,
   "metadata": {},
   "outputs": [],
   "source": [
    "model_wrapped.fit(train_loader, valid_loader, 15)"
   ]
  },
  {
   "cell_type": "code",
   "execution_count": null,
   "metadata": {},
   "outputs": [],
   "source": [
    "scores[model_wrapped.best_score] = model_wrapped"
   ]
  },
  {
   "cell_type": "markdown",
   "metadata": {},
   "source": [
    "### **Model**: `EfficientNet_B0`"
   ]
  },
  {
   "cell_type": "code",
   "execution_count": null,
   "metadata": {},
   "outputs": [],
   "source": [
    "model = models.efficientnet_b0(weights=models.EfficientNet_B0_Weights.IMAGENET1K_V1)\n",
    "model.classifier[-1] = nn.Linear(model.classifier[-1].in_features, len(classes))\n",
    "\n",
    "model_wrapped = Classifier(model, \"EfficientNet_B0\")"
   ]
  },
  {
   "cell_type": "code",
   "execution_count": null,
   "metadata": {},
   "outputs": [],
   "source": [
    "model_wrapped.fit(train_loader, valid_loader, 10)"
   ]
  },
  {
   "cell_type": "code",
   "execution_count": null,
   "metadata": {},
   "outputs": [],
   "source": [
    "scores[model_wrapped.best_score] = model_wrapped"
   ]
  },
  {
   "cell_type": "markdown",
   "metadata": {},
   "source": [
    "## Result"
   ]
  },
  {
   "cell_type": "code",
   "execution_count": null,
   "metadata": {},
   "outputs": [],
   "source": [
    "best_model_wrapped = scores[max(scores)]\n",
    "best_model_wrapped.name"
   ]
  },
  {
   "cell_type": "code",
   "execution_count": null,
   "metadata": {},
   "outputs": [],
   "source": [
    "n = (2, 4)  # Кортеж (rows, cols)\n",
    "fig_image_size = 5\n",
    "\n",
    "fig, axes = plt.subplots(n[0], n[1], figsize=(fig_image_size * n[1], fig_image_size * n[0]))\n",
    "\n",
    "for i in range(n[0]):\n",
    "    for j in range(n[1]):\n",
    "        idx = random.randrange(len(valid_set))\n",
    "        batch = valid_set[idx]\n",
    "        batch['args'][0] = batch['args'][0].unsqueeze(0)\n",
    "        prediction = best_model_wrapped.predict(batch)\n",
    "\n",
    "        ax = axes[i][j]\n",
    "        ax.imshow(denormalize(batch['args'][0].squeeze(), mean, std).cpu().numpy().transpose(1, 2, 0))\n",
    "        ax.axis('off')\n",
    "        ax.set_title(f\"Class: {classes[batch['labels']]}\\nPredict: {classes[prediction]}\", fontsize=10)\n",
    "\n",
    "plt.tight_layout()\n",
    "plt.show()"
   ]
  },
  {
   "cell_type": "markdown",
   "metadata": {},
   "source": [
    "## Submission"
   ]
  },
  {
   "cell_type": "code",
   "execution_count": null,
   "metadata": {},
   "outputs": [],
   "source": [
    "test_dir = \"\"\n",
    "\n",
    "test_image_names = os.listdir(test_dir)\n",
    "test_image_paths = list(map(lambda image_name: f\"{test_dir}/{image_name}\", test_image_names))\n",
    "\n",
    "test_set = ImageClassificationDataset(test_image_paths)"
   ]
  },
  {
   "cell_type": "code",
   "execution_count": null,
   "metadata": {},
   "outputs": [],
   "source": [
    "predict_class_id = best_model_wrapped.predict(test_set)\n",
    "predict_class_names = [classes[class_id] for class_id in predict_class_id]"
   ]
  }
 ],
 "metadata": {
  "kernelspec": {
   "display_name": "Python 3",
   "language": "python",
   "name": "python3"
  },
  "language_info": {
   "codemirror_mode": {
    "name": "ipython",
    "version": 3
   },
   "file_extension": ".py",
   "mimetype": "text/x-python",
   "name": "python",
   "nbconvert_exporter": "python",
   "pygments_lexer": "ipython3",
   "version": "3.11.9"
  }
 },
 "nbformat": 4,
 "nbformat_minor": 2
}
