{
 "cells": [
  {
   "cell_type": "code",
   "execution_count": 1,
   "metadata": {
    "ExecuteTime": {
     "end_time": "2024-11-21T19:15:10.459513Z",
     "start_time": "2024-11-21T19:15:05.297753Z"
    }
   },
   "outputs": [],
   "source": [
    "# Utils\n",
    "from classification.model import *"
   ]
  },
  {
   "cell_type": "markdown",
   "metadata": {},
   "source": [
    "## Зафиксируем **seed**"
   ]
  },
  {
   "cell_type": "code",
   "execution_count": 2,
   "metadata": {},
   "outputs": [],
   "source": [
    "set_all_seeds()"
   ]
  },
  {
   "cell_type": "markdown",
   "metadata": {},
   "source": [
    "## Data"
   ]
  },
  {
   "cell_type": "markdown",
   "metadata": {},
   "source": [
    "### **Classification dataset**"
   ]
  },
  {
   "cell_type": "code",
   "execution_count": null,
   "metadata": {},
   "outputs": [],
   "source": [
<<<<<<< HEAD
=======
    "import torch\n",
    "\n",
>>>>>>> 11c4adcca1c29248934584a72d2d7d964621d753
    "class TextClassificationDataset(torch.utils.data.Dataset):\n",
    "    tokenizer = None\n",
    "    max_length = 128\n",
    "\n",
    "    def __init__(self, texts, labels=None, ):\n",
    "        self.texts = texts\n",
    "        self.labels = labels\n",
    "\n",
    "    def __len__(self):\n",
    "        return len(self.texts)\n",
    "\n",
    "    def __getitem__(self, idx):\n",
    "        text = self.texts[idx]\n",
    "        encoding = self.tokenizer(text, padding='max_length', truncation=True, max_length=self.max_length, return_tensors=\"pt\")\n",
    "        result = {k: v.squeeze(0) for k, v in encoding.items()}\n",
    "        if self.labels is not None:\n",
    "            result['labels'] = torch.tensor(self.labels[idx], dtype=torch.long)\n",
    "        return result\n",
    "\n",
    "    def get_item(self, idx):\n",
    "        result = {'text': self.texts[idx]}\n",
    "        if self.labels is not None:\n",
    "            result['label'] = self.labels[idx]\n",
    "        return result  # text, (label)"
   ]
  },
  {
   "cell_type": "markdown",
   "metadata": {},
   "source": [
    "### Preparation"
   ]
  },
  {
   "cell_type": "code",
   "execution_count": 4,
   "metadata": {},
   "outputs": [],
   "source": [
    "classes = [] # название классов"
   ]
  },
  {
   "cell_type": "code",
   "execution_count": null,
   "metadata": {},
   "outputs": [],
   "source": [
    "texts = []  # тексты\n",
    "labels = []  # метки, соответствующие текстам (закодированные LabelEncoder-ом)"
   ]
  },
  {
   "cell_type": "markdown",
   "metadata": {},
   "source": [
    "### **Split**"
   ]
  },
  {
   "cell_type": "code",
   "execution_count": null,
   "metadata": {},
   "outputs": [],
   "source": [
    "from sklearn.model_selection import train_test_split\n",
    "\n",
    "train_texts, valid_texts, train_labels, valid_labels = train_test_split(texts, labels, test_size=0.2, random_state=42) # stratify=labels"
   ]
  },
  {
   "cell_type": "markdown",
   "metadata": {},
   "source": [
    "### Create **Datasets**"
   ]
  },
  {
   "cell_type": "code",
   "execution_count": null,
   "metadata": {},
   "outputs": [],
   "source": [
    "dataset = TextClassificationDataset(texts, labels)\n",
    "\n",
    "train_set = TextClassificationDataset(train_texts, train_labels)\n",
    "valid_set = TextClassificationDataset(valid_texts, valid_labels)"
   ]
  },
  {
   "cell_type": "markdown",
   "metadata": {},
   "source": [
    "### Create **DataLoader**"
   ]
  },
  {
   "cell_type": "code",
   "execution_count": null,
   "metadata": {},
   "outputs": [],
   "source": [
    "batch_size = 32\n",
    "num_workers = 0 # ! Возникают ошибки\n",
    "\n",
    "train_loader = DataLoader(train_set, batch_size=batch_size, num_workers=num_workers, shuffle=True)\n",
    "valid_loader = DataLoader(valid_set, batch_size=batch_size, num_workers=num_workers, shuffle=False)"
   ]
  },
  {
   "cell_type": "markdown",
   "metadata": {},
   "source": [
    "### ***Visualization***"
   ]
  },
  {
   "cell_type": "code",
   "execution_count": null,
   "metadata": {},
   "outputs": [],
   "source": [
    "show_texts(dataset, classes=classes)"
   ]
  },
  {
   "cell_type": "markdown",
   "metadata": {},
   "source": [
    "## **Models**"
   ]
  },
  {
   "cell_type": "code",
   "execution_count": 1,
   "metadata": {},
   "outputs": [],
   "source": [
    "from transformers import AutoTokenizer, AutoModelForSequenceClassification\n",
    "\n",
    "from torch_lr_finder import LRFinder"
   ]
  },
  {
   "cell_type": "code",
   "execution_count": null,
   "metadata": {},
   "outputs": [],
   "source": [
    "def find_lr(model_wrapped):\n",
    "    loss_fn = nn.CrossEntropyLoss()\n",
    "    optimizer = optim.Adam(model_wrapped.parameters(), lr=1e-7)\n",
    "\n",
    "    class AdaptedDataLoader(torch.utils.data.DataLoader):\n",
    "        def __init__(self, dataloader):\n",
    "            self.dataloader = dataloader\n",
    "            self.iterator = iter(dataloader)\n",
    "        def __iter__(self):\n",
    "            self.iterator = iter(self.dataloader)\n",
    "            return self\n",
    "        def __next__(self):\n",
    "            batch = next(self.iterator)\n",
    "            labels = batch.pop('labels')\n",
    "            return batch, labels\n",
    "\n",
    "    adapted_loader = AdaptedDataLoader(train_loader)\n",
    "    lr_finder = LRFinder(model_wrapped, optimizer, loss_fn, device=model_wrapped.device)\n",
    "    lr_finder.range_test(adapted_loader, end_lr=1, num_iter=100)\n",
    "    lr_finder.plot()\n",
    "    lr_finder.reset()"
   ]
  },
  {
   "cell_type": "code",
   "execution_count": null,
   "metadata": {},
   "outputs": [],
   "source": [
    "class CustomOutput(nn.Module):\n",
    "    def __init__(self, model, output_transform=lambda out: out.logits):\n",
    "        super().__init__()\n",
    "        self.model = model\n",
    "        self.output_transform = output_transform\n",
    "\n",
    "    def forward(self, *args, **kwargs):\n",
    "        return self.output_transform(self.model(*args, **kwargs))\n",
    "\n",
    "    def __getattr__(self, name):\n",
    "        if name in ('model', 'output_transform'):\n",
    "            return super().__getattr__(name)\n",
    "        return getattr(self.model, name)\n",
    "    \n",
    "    def __setattr__(self, name, value):\n",
    "        if name in ('model', 'output_transform'):\n",
    "            super().__setattr__(name, value)\n",
    "        else:\n",
    "            setattr(self.model, name, value)"
   ]
  },
  {
   "cell_type": "markdown",
   "metadata": {},
   "source": [
    "### *Score*"
   ]
  },
  {
   "cell_type": "code",
   "execution_count": null,
   "metadata": {},
   "outputs": [],
   "source": [
    "scores = dict()"
   ]
  },
  {
   "cell_type": "markdown",
   "metadata": {},
   "source": [
    "### **Model**: `bert-base-uncased`"
   ]
  },
  {
   "cell_type": "code",
   "execution_count": null,
   "metadata": {},
   "outputs": [],
   "source": [
    "model_name = 'bert-base-uncased'\n",
    "\n",
    "TextClassificationDataset.max_length = 128\n",
    "TextClassificationDataset.tokenizer = AutoTokenizer.from_pretrained(model_name)"
   ]
  },
  {
   "cell_type": "code",
   "execution_count": null,
   "metadata": {},
   "outputs": [],
   "source": [
    "model = CustomOutput(AutoModelForSequenceClassification.from_pretrained(model_name, num_labels=len(classes)))\n",
    "optimizer = optim.Adam(model.parameters(), lr=5e-5)\n",
    "\n",
    "model_wrapped = Classifier(model, 'BERT-base', optimizer)"
   ]
  },
  {
   "cell_type": "code",
   "execution_count": null,
   "metadata": {},
   "outputs": [],
   "source": [
    "model_wrapped.fit(train_loader, valid_loader, 10)"
   ]
  },
  {
   "cell_type": "code",
   "execution_count": null,
   "metadata": {},
   "outputs": [],
   "source": [
    "scores[model_wrapped.best_score] = model_wrapped"
   ]
  },
  {
   "cell_type": "markdown",
   "metadata": {},
   "source": [
    "### **Model**: `distilbert-base-uncased`"
   ]
  },
  {
   "cell_type": "code",
   "execution_count": null,
   "metadata": {},
   "outputs": [],
   "source": [
    "model_name = 'distilbert-base-uncased'\n",
    "\n",
    "TextClassificationDataset.max_length = 128\n",
    "TextClassificationDataset.tokenizer = AutoTokenizer.from_pretrained(model_name)"
   ]
  },
  {
   "cell_type": "code",
   "execution_count": null,
   "metadata": {},
   "outputs": [],
   "source": [
    "model = AutoModelForSequenceClassification.from_pretrained(model_name, num_labels=len(classes))\n",
    "\n",
    "model_wrapped = Classifier(model, 'DistilBERT')"
   ]
  },
  {
   "cell_type": "code",
   "execution_count": null,
   "metadata": {},
   "outputs": [],
   "source": [
    "model_wrapped.fit(train_loader, valid_loader, 10)"
   ]
  },
  {
   "cell_type": "code",
   "execution_count": null,
   "metadata": {},
   "outputs": [],
   "source": [
    "scores[model_wrapped.best_score] = model_wrapped"
   ]
  },
  {
   "cell_type": "markdown",
   "metadata": {},
   "source": [
    "## Result"
   ]
  },
  {
   "cell_type": "code",
   "execution_count": null,
   "metadata": {},
   "outputs": [],
   "source": [
    "best_model_wrapped = scores[max(scores)]\n",
    "best_model_wrapped.name"
   ]
  },
  {
   "cell_type": "code",
   "execution_count": null,
   "metadata": {},
   "outputs": [],
   "source": [
    "n = 5\n",
    "for _ in range(n):\n",
    "    idx = random.randrange(len(valid_set))\n",
    "    batch = valid_set[idx]\n",
    "    text = valid_set.get_item(idx)['text']\n",
    "    prediction = best_model_wrapped.predict(batch)\n",
    "    print(f'Text: {text[:80]}{'...' if len(text)>80 else ''}')\n",
    "    print(f'Class: {classes[batch[\"labels\"]]} - Predict: {classes[prediction]}')"
   ]
  },
  {
   "cell_type": "markdown",
   "metadata": {},
   "source": [
    "## Submission"
   ]
  },
  {
   "cell_type": "code",
   "execution_count": null,
   "metadata": {},
   "outputs": [],
   "source": [
    "test_texts = []\n",
    "\n",
    "test_set = TextClassificationDataset(test_texts)"
   ]
  },
  {
   "cell_type": "code",
   "execution_count": null,
   "metadata": {},
   "outputs": [],
   "source": [
    "predict_class_id = best_model_wrapped.predict(test_set)\n",
    "predict_class_names = [classes[class_id] for class_id in predict_class_id]"
   ]
  }
 ],
 "metadata": {
  "kernelspec": {
   "display_name": "Python 3",
   "language": "python",
   "name": "python3"
  },
  "language_info": {
   "codemirror_mode": {
    "name": "ipython",
    "version": 3
   },
   "file_extension": ".py",
   "mimetype": "text/x-python",
   "name": "python",
   "nbconvert_exporter": "python",
   "pygments_lexer": "ipython3",
   "version": "3.11.9"
  }
 },
 "nbformat": 4,
 "nbformat_minor": 2
}
